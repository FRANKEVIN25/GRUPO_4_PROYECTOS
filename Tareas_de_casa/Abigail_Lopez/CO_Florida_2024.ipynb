{
  "nbformat": 4,
  "nbformat_minor": 0,
  "metadata": {
    "colab": {
      "provenance": []
    },
    "kernelspec": {
      "name": "python3",
      "display_name": "Python 3"
    },
    "language_info": {
      "name": "python"
    }
  },
  "cells": [
    {
      "cell_type": "markdown",
      "source": [
        "### 1) Subimos los datasets de todos los años (2022, 2023 y 2024)"
      ],
      "metadata": {
        "id": "h81sxeKdCuxR"
      }
    },
    {
      "cell_type": "code",
      "execution_count": 1,
      "metadata": {
        "id": "OWeB-eIT5rYp"
      },
      "outputs": [],
      "source": [
        "import os\n",
        "\n",
        "# creamos la carpeta\n",
        "os.makedirs(\"CO_Florida\", exist_ok= True)"
      ]
    },
    {
      "cell_type": "code",
      "source": [
        "# subimos los archivos\n",
        "from google.colab import files\n",
        "# manualmente\n",
        "uploaded = files.upload()\n",
        "# a la carpeta\n",
        "for filename in uploaded.keys():\n",
        "  os.replace(filename, f\"CO_Florida/{filename}\")\n",
        "  print(f\"Archivo {filename} subido a CO_Florida\")"
      ],
      "metadata": {
        "colab": {
          "base_uri": "https://localhost:8080/",
          "height": 194
        },
        "id": "ghfBqvlFA2pn",
        "outputId": "60605fd8-d6f3-4aa3-adc0-a9628cb3f3e0"
      },
      "execution_count": 2,
      "outputs": [
        {
          "output_type": "display_data",
          "data": {
            "text/plain": [
              "<IPython.core.display.HTML object>"
            ],
            "text/html": [
              "\n",
              "     <input type=\"file\" id=\"files-4abb95c1-39e7-47eb-863e-943d9dd1c12d\" name=\"files[]\" multiple disabled\n",
              "        style=\"border:none\" />\n",
              "     <output id=\"result-4abb95c1-39e7-47eb-863e-943d9dd1c12d\">\n",
              "      Upload widget is only available when the cell has been executed in the\n",
              "      current browser session. Please rerun this cell to enable.\n",
              "      </output>\n",
              "      <script>// Copyright 2017 Google LLC\n",
              "//\n",
              "// Licensed under the Apache License, Version 2.0 (the \"License\");\n",
              "// you may not use this file except in compliance with the License.\n",
              "// You may obtain a copy of the License at\n",
              "//\n",
              "//      http://www.apache.org/licenses/LICENSE-2.0\n",
              "//\n",
              "// Unless required by applicable law or agreed to in writing, software\n",
              "// distributed under the License is distributed on an \"AS IS\" BASIS,\n",
              "// WITHOUT WARRANTIES OR CONDITIONS OF ANY KIND, either express or implied.\n",
              "// See the License for the specific language governing permissions and\n",
              "// limitations under the License.\n",
              "\n",
              "/**\n",
              " * @fileoverview Helpers for google.colab Python module.\n",
              " */\n",
              "(function(scope) {\n",
              "function span(text, styleAttributes = {}) {\n",
              "  const element = document.createElement('span');\n",
              "  element.textContent = text;\n",
              "  for (const key of Object.keys(styleAttributes)) {\n",
              "    element.style[key] = styleAttributes[key];\n",
              "  }\n",
              "  return element;\n",
              "}\n",
              "\n",
              "// Max number of bytes which will be uploaded at a time.\n",
              "const MAX_PAYLOAD_SIZE = 100 * 1024;\n",
              "\n",
              "function _uploadFiles(inputId, outputId) {\n",
              "  const steps = uploadFilesStep(inputId, outputId);\n",
              "  const outputElement = document.getElementById(outputId);\n",
              "  // Cache steps on the outputElement to make it available for the next call\n",
              "  // to uploadFilesContinue from Python.\n",
              "  outputElement.steps = steps;\n",
              "\n",
              "  return _uploadFilesContinue(outputId);\n",
              "}\n",
              "\n",
              "// This is roughly an async generator (not supported in the browser yet),\n",
              "// where there are multiple asynchronous steps and the Python side is going\n",
              "// to poll for completion of each step.\n",
              "// This uses a Promise to block the python side on completion of each step,\n",
              "// then passes the result of the previous step as the input to the next step.\n",
              "function _uploadFilesContinue(outputId) {\n",
              "  const outputElement = document.getElementById(outputId);\n",
              "  const steps = outputElement.steps;\n",
              "\n",
              "  const next = steps.next(outputElement.lastPromiseValue);\n",
              "  return Promise.resolve(next.value.promise).then((value) => {\n",
              "    // Cache the last promise value to make it available to the next\n",
              "    // step of the generator.\n",
              "    outputElement.lastPromiseValue = value;\n",
              "    return next.value.response;\n",
              "  });\n",
              "}\n",
              "\n",
              "/**\n",
              " * Generator function which is called between each async step of the upload\n",
              " * process.\n",
              " * @param {string} inputId Element ID of the input file picker element.\n",
              " * @param {string} outputId Element ID of the output display.\n",
              " * @return {!Iterable<!Object>} Iterable of next steps.\n",
              " */\n",
              "function* uploadFilesStep(inputId, outputId) {\n",
              "  const inputElement = document.getElementById(inputId);\n",
              "  inputElement.disabled = false;\n",
              "\n",
              "  const outputElement = document.getElementById(outputId);\n",
              "  outputElement.innerHTML = '';\n",
              "\n",
              "  const pickedPromise = new Promise((resolve) => {\n",
              "    inputElement.addEventListener('change', (e) => {\n",
              "      resolve(e.target.files);\n",
              "    });\n",
              "  });\n",
              "\n",
              "  const cancel = document.createElement('button');\n",
              "  inputElement.parentElement.appendChild(cancel);\n",
              "  cancel.textContent = 'Cancel upload';\n",
              "  const cancelPromise = new Promise((resolve) => {\n",
              "    cancel.onclick = () => {\n",
              "      resolve(null);\n",
              "    };\n",
              "  });\n",
              "\n",
              "  // Wait for the user to pick the files.\n",
              "  const files = yield {\n",
              "    promise: Promise.race([pickedPromise, cancelPromise]),\n",
              "    response: {\n",
              "      action: 'starting',\n",
              "    }\n",
              "  };\n",
              "\n",
              "  cancel.remove();\n",
              "\n",
              "  // Disable the input element since further picks are not allowed.\n",
              "  inputElement.disabled = true;\n",
              "\n",
              "  if (!files) {\n",
              "    return {\n",
              "      response: {\n",
              "        action: 'complete',\n",
              "      }\n",
              "    };\n",
              "  }\n",
              "\n",
              "  for (const file of files) {\n",
              "    const li = document.createElement('li');\n",
              "    li.append(span(file.name, {fontWeight: 'bold'}));\n",
              "    li.append(span(\n",
              "        `(${file.type || 'n/a'}) - ${file.size} bytes, ` +\n",
              "        `last modified: ${\n",
              "            file.lastModifiedDate ? file.lastModifiedDate.toLocaleDateString() :\n",
              "                                    'n/a'} - `));\n",
              "    const percent = span('0% done');\n",
              "    li.appendChild(percent);\n",
              "\n",
              "    outputElement.appendChild(li);\n",
              "\n",
              "    const fileDataPromise = new Promise((resolve) => {\n",
              "      const reader = new FileReader();\n",
              "      reader.onload = (e) => {\n",
              "        resolve(e.target.result);\n",
              "      };\n",
              "      reader.readAsArrayBuffer(file);\n",
              "    });\n",
              "    // Wait for the data to be ready.\n",
              "    let fileData = yield {\n",
              "      promise: fileDataPromise,\n",
              "      response: {\n",
              "        action: 'continue',\n",
              "      }\n",
              "    };\n",
              "\n",
              "    // Use a chunked sending to avoid message size limits. See b/62115660.\n",
              "    let position = 0;\n",
              "    do {\n",
              "      const length = Math.min(fileData.byteLength - position, MAX_PAYLOAD_SIZE);\n",
              "      const chunk = new Uint8Array(fileData, position, length);\n",
              "      position += length;\n",
              "\n",
              "      const base64 = btoa(String.fromCharCode.apply(null, chunk));\n",
              "      yield {\n",
              "        response: {\n",
              "          action: 'append',\n",
              "          file: file.name,\n",
              "          data: base64,\n",
              "        },\n",
              "      };\n",
              "\n",
              "      let percentDone = fileData.byteLength === 0 ?\n",
              "          100 :\n",
              "          Math.round((position / fileData.byteLength) * 100);\n",
              "      percent.textContent = `${percentDone}% done`;\n",
              "\n",
              "    } while (position < fileData.byteLength);\n",
              "  }\n",
              "\n",
              "  // All done.\n",
              "  yield {\n",
              "    response: {\n",
              "      action: 'complete',\n",
              "    }\n",
              "  };\n",
              "}\n",
              "\n",
              "scope.google = scope.google || {};\n",
              "scope.google.colab = scope.google.colab || {};\n",
              "scope.google.colab._files = {\n",
              "  _uploadFiles,\n",
              "  _uploadFilesContinue,\n",
              "};\n",
              "})(self);\n",
              "</script> "
            ]
          },
          "metadata": {}
        },
        {
          "output_type": "stream",
          "name": "stdout",
          "text": [
            "Saving co_data_2022.csv to co_data_2022.csv\n",
            "Saving co_data_2023.csv to co_data_2023.csv\n",
            "Saving co_data_2024.csv to co_data_2024.csv\n",
            "Archivo co_data_2022.csv subido a CO_Florida\n",
            "Archivo co_data_2023.csv subido a CO_Florida\n",
            "Archivo co_data_2024.csv subido a CO_Florida\n"
          ]
        }
      ]
    },
    {
      "cell_type": "markdown",
      "source": [
        "### 2) Importamos las librerias y leemos los datos"
      ],
      "metadata": {
        "id": "WpDe1CTeC2Ow"
      }
    },
    {
      "cell_type": "code",
      "source": [
        "# Librerías necesarias\n",
        "import pandas as pd\n",
        "import numpy as np\n",
        "import matplotlib.pyplot as plt\n",
        "from sklearn.linear_model import LinearRegression\n",
        "from sklearn.preprocessing import PolynomialFeatures\n",
        "from sklearn.metrics import mean_absolute_error, mean_squared_error\n",
        "\n",
        "# Leer archivos\n",
        "df_2022 = pd.read_csv(\"CO_Florida/co_data_2022.csv\")\n",
        "df_2023 = pd.read_csv(\"CO_Florida/co_data_2023.csv\")\n",
        "\n",
        "# Limpiar nombres de columna (quitar espacios al inicio/final)\n",
        "df_2022.columns = df_2022.columns.str.strip()\n",
        "df_2023.columns = df_2023.columns.str.strip()\n",
        "\n",
        "# Unir datasets\n",
        "df = pd.concat([df_2022, df_2023], ignore_index=True)\n",
        "\n",
        "# Ver las primeras filas para confirmar\n",
        "print(df.head())"
      ],
      "metadata": {
        "colab": {
          "base_uri": "https://localhost:8080/"
        },
        "id": "xsvWIhy-BQPw",
        "outputId": "03c05315-b2c6-40e2-aeed-9a4f7c770d06"
      },
      "execution_count": 3,
      "outputs": [
        {
          "output_type": "stream",
          "name": "stdout",
          "text": [
            "         Date Source    Site ID  POC  Daily Max 8-hour CO Concentration Units  \\\n",
            "0  01/01/2022    AQS  120110034    1                                0.4   ppm   \n",
            "1  01/02/2022    AQS  120110034    1                                0.3   ppm   \n",
            "2  01/03/2022    AQS  120110034    1                                0.2   ppm   \n",
            "3  01/04/2022    AQS  120110034    1                                0.2   ppm   \n",
            "4  01/05/2022    AQS  120110034    1                                0.2   ppm   \n",
            "\n",
            "   Daily AQI Value     Local Site Name  Daily Obs Count  Percent Complete  \\\n",
            "0                5  Daniela Banu NCORE               19              79.0   \n",
            "1                3  Daniela Banu NCORE               24             100.0   \n",
            "2                2  Daniela Banu NCORE               24             100.0   \n",
            "3                2  Daniela Banu NCORE               24             100.0   \n",
            "4                2  Daniela Banu NCORE               18              75.0   \n",
            "\n",
            "   ...  AQS Parameter Description Method Code  CBSA Code  \\\n",
            "0  ...            Carbon monoxide         554      33100   \n",
            "1  ...            Carbon monoxide         554      33100   \n",
            "2  ...            Carbon monoxide         554      33100   \n",
            "3  ...            Carbon monoxide         554      33100   \n",
            "4  ...            Carbon monoxide         554      33100   \n",
            "\n",
            "                                   CBSA Name State FIPS Code    State  \\\n",
            "0  Miami-Fort Lauderdale-West Palm Beach, FL              12  Florida   \n",
            "1  Miami-Fort Lauderdale-West Palm Beach, FL              12  Florida   \n",
            "2  Miami-Fort Lauderdale-West Palm Beach, FL              12  Florida   \n",
            "3  Miami-Fort Lauderdale-West Palm Beach, FL              12  Florida   \n",
            "4  Miami-Fort Lauderdale-West Palm Beach, FL              12  Florida   \n",
            "\n",
            "  County FIPS Code   County Site Latitude  Site Longitude  \n",
            "0               11  Broward     26.053889      -80.256944  \n",
            "1               11  Broward     26.053889      -80.256944  \n",
            "2               11  Broward     26.053889      -80.256944  \n",
            "3               11  Broward     26.053889      -80.256944  \n",
            "4               11  Broward     26.053889      -80.256944  \n",
            "\n",
            "[5 rows x 21 columns]\n"
          ]
        }
      ]
    },
    {
      "cell_type": "markdown",
      "source": [
        "### 3) Limpiamos los datos"
      ],
      "metadata": {
        "id": "NkwwPRXHC8BJ"
      }
    },
    {
      "cell_type": "code",
      "source": [
        "# Filtrar columnas importantes y renombrar\n",
        "df = df[['Date', 'Daily Max 8-hour CO Concentration']]\n",
        "df.rename(columns={'Daily Max 8-hour CO Concentration': 'CO'}, inplace=True)\n",
        "\n",
        "# Convertir fechas y crear columnas de año y mes\n",
        "df['Date'] = pd.to_datetime(df['Date'])\n",
        "df['Year'] = df['Date'].dt.year\n",
        "df['Month'] = df['Date'].dt.month\n",
        "\n",
        "# Mostrar primeras filas\n",
        "print(df.head())\n"
      ],
      "metadata": {
        "colab": {
          "base_uri": "https://localhost:8080/"
        },
        "id": "BoTSMnvbIfr8",
        "outputId": "fea05ec8-3bd0-4e01-bda1-cc28b66c59aa"
      },
      "execution_count": 4,
      "outputs": [
        {
          "output_type": "stream",
          "name": "stdout",
          "text": [
            "        Date   CO  Year  Month\n",
            "0 2022-01-01  0.4  2022      1\n",
            "1 2022-01-02  0.3  2022      1\n",
            "2 2022-01-03  0.2  2022      1\n",
            "3 2022-01-04  0.2  2022      1\n",
            "4 2022-01-05  0.2  2022      1\n"
          ]
        }
      ]
    },
    {
      "cell_type": "markdown",
      "source": [
        "### 4) Calculamos el promedio mensual"
      ],
      "metadata": {
        "id": "4KA-5pqRJbm0"
      }
    },
    {
      "cell_type": "code",
      "source": [
        "# Agrupar por año y mes para calcular promedio mensual\n",
        "monthly_avg = df.groupby([\"Year\", \"Month\"])[\"CO\"].mean().reset_index()\n",
        "\n",
        "print(\"Promedios mensuales de CO (2022 y 2023):\")\n",
        "print(monthly_avg)"
      ],
      "metadata": {
        "colab": {
          "base_uri": "https://localhost:8080/"
        },
        "id": "za9y1Tf-Jgum",
        "outputId": "c262827e-4563-4833-b1c0-e218c371798d"
      },
      "execution_count": 5,
      "outputs": [
        {
          "output_type": "stream",
          "name": "stdout",
          "text": [
            "Promedios mensuales de CO (2022 y 2023):\n",
            "    Year  Month        CO\n",
            "0   2022      1  0.360924\n",
            "1   2022      2  0.366071\n",
            "2   2022      3  0.348780\n",
            "3   2022      4  0.293304\n",
            "4   2022      5  0.327437\n",
            "5   2022      6  0.332389\n",
            "6   2022      7  0.259470\n",
            "7   2022      8  0.320513\n",
            "8   2022      9  0.350000\n",
            "9   2022     10  0.378986\n",
            "10  2022     11  0.317761\n",
            "11  2022     12  0.348462\n",
            "12  2023      1  0.432129\n",
            "13  2023      2  0.380000\n",
            "14  2023      3  0.360256\n",
            "15  2023      4  0.347287\n",
            "16  2023      5  0.368165\n",
            "17  2023      6  0.391915\n",
            "18  2023      7  0.368016\n",
            "19  2023      8  0.358929\n",
            "20  2023      9  0.367841\n",
            "21  2023     10  0.341810\n",
            "22  2023     11  0.333712\n",
            "23  2023     12  0.361753\n"
          ]
        }
      ]
    },
    {
      "cell_type": "markdown",
      "source": [
        "### 5) Crear variables adicionales para el modelo"
      ],
      "metadata": {
        "id": "3pPDLiccZhfF"
      }
    },
    {
      "cell_type": "code",
      "source": [
        "# Crear columnas de lags (CO del mes anterior y dos meses antes)\n",
        "monthly_avg['CO_lag1'] = monthly_avg['CO'].shift(1)\n",
        "monthly_avg['CO_lag2'] = monthly_avg['CO'].shift(2)\n",
        "\n",
        "# Crear variables dummies para los meses\n",
        "month_dummies = pd.get_dummies(monthly_avg['Month'], prefix='Month')\n",
        "monthly_avg = pd.concat([monthly_avg, month_dummies], axis=1)\n",
        "\n",
        "# Eliminar filas con NaN generadas por los lags\n",
        "monthly_avg.dropna(inplace=True)\n",
        "\n",
        "print(monthly_avg.head())\n"
      ],
      "metadata": {
        "colab": {
          "base_uri": "https://localhost:8080/"
        },
        "id": "oJV9bqjHZ4n9",
        "outputId": "5379894f-b4dc-4cb8-be42-043abddd8ff7"
      },
      "execution_count": 6,
      "outputs": [
        {
          "output_type": "stream",
          "name": "stdout",
          "text": [
            "   Year  Month        CO   CO_lag1   CO_lag2  Month_1  Month_2  Month_3  \\\n",
            "2  2022      3  0.348780  0.366071  0.360924    False    False     True   \n",
            "3  2022      4  0.293304  0.348780  0.366071    False    False    False   \n",
            "4  2022      5  0.327437  0.293304  0.348780    False    False    False   \n",
            "5  2022      6  0.332389  0.327437  0.293304    False    False    False   \n",
            "6  2022      7  0.259470  0.332389  0.327437    False    False    False   \n",
            "\n",
            "   Month_4  Month_5  Month_6  Month_7  Month_8  Month_9  Month_10  Month_11  \\\n",
            "2    False    False    False    False    False    False     False     False   \n",
            "3     True    False    False    False    False    False     False     False   \n",
            "4    False     True    False    False    False    False     False     False   \n",
            "5    False    False     True    False    False    False     False     False   \n",
            "6    False    False    False     True    False    False     False     False   \n",
            "\n",
            "   Month_12  \n",
            "2     False  \n",
            "3     False  \n",
            "4     False  \n",
            "5     False  \n",
            "6     False  \n"
          ]
        }
      ]
    },
    {
      "cell_type": "markdown",
      "source": [
        "### 6) Seleccionamos las variables de entrada y salida"
      ],
      "metadata": {
        "id": "O7MqgafNaJ_K"
      }
    },
    {
      "cell_type": "code",
      "source": [
        "# Variables de entrada\n",
        "X = monthly_avg.drop(columns=['CO', 'Year', 'Month'])\n",
        "\n",
        "# Variable de salida\n",
        "y = monthly_avg['CO']\n"
      ],
      "metadata": {
        "id": "5PWwUww8aPNO"
      },
      "execution_count": 7,
      "outputs": []
    },
    {
      "cell_type": "markdown",
      "source": [
        "### 7) Entrenamos el modelo"
      ],
      "metadata": {
        "id": "LWp9dSDhaTBq"
      }
    },
    {
      "cell_type": "code",
      "source": [
        "# Regresión lineal\n",
        "model = LinearRegression()\n",
        "model.fit(X, y)\n",
        "\n",
        "# Predecir sobre los datos existentes\n",
        "monthly_avg['Pred_CO'] = model.predict(X)\n",
        "\n",
        "# Ver resultados\n",
        "print(monthly_avg[['Year', 'Month', 'CO', 'Pred_CO']])\n"
      ],
      "metadata": {
        "colab": {
          "base_uri": "https://localhost:8080/"
        },
        "id": "veTBYv4RaY1n",
        "outputId": "6923f227-9cac-4016-e938-1b19f406d5ed"
      },
      "execution_count": 8,
      "outputs": [
        {
          "output_type": "stream",
          "name": "stdout",
          "text": [
            "    Year  Month        CO   Pred_CO\n",
            "2   2022      3  0.348780  0.347459\n",
            "3   2022      4  0.293304  0.316257\n",
            "4   2022      5  0.327437  0.330951\n",
            "5   2022      6  0.332389  0.347638\n",
            "6   2022      7  0.259470  0.294048\n",
            "7   2022      8  0.320513  0.304392\n",
            "8   2022      9  0.350000  0.342941\n",
            "9   2022     10  0.378986  0.353453\n",
            "10  2022     11  0.317761  0.336317\n",
            "11  2022     12  0.348462  0.351740\n",
            "12  2023      1  0.432129  0.432129\n",
            "13  2023      2  0.380000  0.380000\n",
            "14  2023      3  0.360256  0.361578\n",
            "15  2023      4  0.347287  0.324334\n",
            "16  2023      5  0.368165  0.364651\n",
            "17  2023      6  0.391915  0.376665\n",
            "18  2023      7  0.368016  0.333438\n",
            "19  2023      8  0.358929  0.375050\n",
            "20  2023      9  0.367841  0.374900\n",
            "21  2023     10  0.341810  0.367343\n",
            "22  2023     11  0.333712  0.315156\n",
            "23  2023     12  0.361753  0.358474\n"
          ]
        }
      ]
    },
    {
      "cell_type": "markdown",
      "source": [
        "### 8) Predecimos para el 2024"
      ],
      "metadata": {
        "id": "dWhz3v5dahiY"
      }
    },
    {
      "cell_type": "code",
      "source": [
        "# Últimos lags conocidos\n",
        "last_co = monthly_avg['CO'].values[-2:]  # últimos 2 meses\n",
        "\n",
        "# Crear DataFrame para 2024\n",
        "future_months = pd.DataFrame({\n",
        "    'Year': 2024,\n",
        "    'Month': range(1, 13)\n",
        "})\n",
        "\n",
        "# Agregar columnas de lags\n",
        "future_months['CO_lag1'] = np.append(last_co[-1], np.zeros(11))  # se irá actualizando después\n",
        "future_months['CO_lag2'] = np.append(last_co, np.zeros(10))      # se irá actualizando después\n",
        "\n",
        "# Crear dummies de mes\n",
        "month_dummies_2024 = pd.get_dummies(future_months['Month'], prefix='Month')\n",
        "future_months = pd.concat([future_months, month_dummies_2024], axis=1)\n",
        "\n",
        "# Predicción mes a mes\n",
        "preds = []\n",
        "for i in range(12):\n",
        "    X_new = future_months.loc[i, X.columns].values.reshape(1, -1)\n",
        "    pred = model.predict(X_new)[0]\n",
        "    preds.append(pred)\n",
        "\n",
        "    # Actualizar lags para el siguiente mes\n",
        "    if i+1 < 12:\n",
        "        future_months.loc[i+1, 'CO_lag1'] = pred\n",
        "    if i+2 < 12:\n",
        "        future_months.loc[i+2, 'CO_lag2'] = pred\n",
        "\n",
        "future_months['Pred_CO'] = preds\n",
        "\n",
        "print(future_months[['Year', 'Month', 'Pred_CO']])\n"
      ],
      "metadata": {
        "colab": {
          "base_uri": "https://localhost:8080/"
        },
        "id": "ClGGyJ19aoAu",
        "outputId": "873acedf-b594-4a29-cfe3-d66ace28b209"
      },
      "execution_count": 9,
      "outputs": [
        {
          "output_type": "stream",
          "name": "stdout",
          "text": [
            "    Year  Month   Pred_CO\n",
            "0   2024      1  0.441469\n",
            "1   2024      2  0.386729\n",
            "2   2024      3  0.366407\n",
            "3   2024      4  0.328604\n",
            "4   2024      5  0.353792\n",
            "5   2024      6  0.366451\n",
            "6   2024      7  0.316830\n",
            "7   2024      8  0.341938\n",
            "8   2024      9  0.360512\n",
            "9   2024     10  0.361541\n",
            "10  2024     11  0.326557\n",
            "11  2024     12  0.355697\n"
          ]
        },
        {
          "output_type": "stream",
          "name": "stderr",
          "text": [
            "/usr/local/lib/python3.12/dist-packages/sklearn/utils/validation.py:2739: UserWarning: X does not have valid feature names, but LinearRegression was fitted with feature names\n",
            "  warnings.warn(\n",
            "/usr/local/lib/python3.12/dist-packages/sklearn/utils/validation.py:2739: UserWarning: X does not have valid feature names, but LinearRegression was fitted with feature names\n",
            "  warnings.warn(\n",
            "/usr/local/lib/python3.12/dist-packages/sklearn/utils/validation.py:2739: UserWarning: X does not have valid feature names, but LinearRegression was fitted with feature names\n",
            "  warnings.warn(\n",
            "/usr/local/lib/python3.12/dist-packages/sklearn/utils/validation.py:2739: UserWarning: X does not have valid feature names, but LinearRegression was fitted with feature names\n",
            "  warnings.warn(\n",
            "/usr/local/lib/python3.12/dist-packages/sklearn/utils/validation.py:2739: UserWarning: X does not have valid feature names, but LinearRegression was fitted with feature names\n",
            "  warnings.warn(\n",
            "/usr/local/lib/python3.12/dist-packages/sklearn/utils/validation.py:2739: UserWarning: X does not have valid feature names, but LinearRegression was fitted with feature names\n",
            "  warnings.warn(\n",
            "/usr/local/lib/python3.12/dist-packages/sklearn/utils/validation.py:2739: UserWarning: X does not have valid feature names, but LinearRegression was fitted with feature names\n",
            "  warnings.warn(\n",
            "/usr/local/lib/python3.12/dist-packages/sklearn/utils/validation.py:2739: UserWarning: X does not have valid feature names, but LinearRegression was fitted with feature names\n",
            "  warnings.warn(\n",
            "/usr/local/lib/python3.12/dist-packages/sklearn/utils/validation.py:2739: UserWarning: X does not have valid feature names, but LinearRegression was fitted with feature names\n",
            "  warnings.warn(\n",
            "/usr/local/lib/python3.12/dist-packages/sklearn/utils/validation.py:2739: UserWarning: X does not have valid feature names, but LinearRegression was fitted with feature names\n",
            "  warnings.warn(\n",
            "/usr/local/lib/python3.12/dist-packages/sklearn/utils/validation.py:2739: UserWarning: X does not have valid feature names, but LinearRegression was fitted with feature names\n",
            "  warnings.warn(\n",
            "/usr/local/lib/python3.12/dist-packages/sklearn/utils/validation.py:2739: UserWarning: X does not have valid feature names, but LinearRegression was fitted with feature names\n",
            "  warnings.warn(\n"
          ]
        }
      ]
    },
    {
      "cell_type": "markdown",
      "source": [
        "### 9) Analizamos el C0 en 2024"
      ],
      "metadata": {
        "id": "o_Lg8tx6bMUe"
      }
    },
    {
      "cell_type": "code",
      "source": [
        "# --- 1) Leer datos reales de 2024 ---\n",
        "df_2024 = pd.read_csv(\"CO_Florida/co_data_2024.csv\")\n",
        "df_2024.columns = df_2024.columns.str.strip()\n",
        "\n",
        "# Filtrar y renombrar columnas\n",
        "df_2024 = df_2024[['Date', 'Daily Max 8-hour CO Concentration']]\n",
        "df_2024.rename(columns={'Daily Max 8-hour CO Concentration': 'CO_Real'}, inplace=True)\n",
        "df_2024['Date'] = pd.to_datetime(df_2024['Date'])\n",
        "df_2024['Year'] = df_2024['Date'].dt.year\n",
        "df_2024['Month'] = df_2024['Date'].dt.month\n",
        "\n",
        "# Calcular promedio mensual\n",
        "monthly_2024 = df_2024.groupby(['Year', 'Month'])['CO_Real'].mean().reset_index()\n",
        "\n",
        "# --- 2) Unir con la predicción del modelo ---\n",
        "comparison_2024 = monthly_2024.merge(\n",
        "    future_months[['Year', 'Month', 'Pred_CO']],\n",
        "    on=['Year', 'Month'],\n",
        "    how='left'\n",
        ")\n",
        "\n",
        "# Mostrar tabla comparativa\n",
        "print(\"Comparación CO real vs predicción 2024:\")\n",
        "print(comparison_2024)\n",
        "\n",
        "# --- 3) Calcular errores ---\n",
        "from sklearn.metrics import mean_absolute_error, mean_squared_error\n",
        "\n",
        "# MAE\n",
        "mae_2024 = mean_absolute_error(comparison_2024['CO_Real'], comparison_2024['Pred_CO'])\n",
        "\n",
        "# RMSE (calculado manualmente)\n",
        "rmse_2024 = np.sqrt(mean_squared_error(comparison_2024['CO_Real'], comparison_2024['Pred_CO']))\n",
        "\n",
        "print(f\"\\nErrores sobre 2024:\")\n",
        "print(f\"MAE: {mae_2024:.4f}\")\n",
        "print(f\"RMSE: {rmse_2024:.4f}\")\n"
      ],
      "metadata": {
        "colab": {
          "base_uri": "https://localhost:8080/"
        },
        "id": "2uIkGPuYbQIo",
        "outputId": "ef6f6416-bfe5-4d1a-e7a8-b3faf5cf24da"
      },
      "execution_count": 11,
      "outputs": [
        {
          "output_type": "stream",
          "name": "stdout",
          "text": [
            "Comparación CO real vs predicción 2024:\n",
            "    Year  Month   CO_Real   Pred_CO\n",
            "0   2024      1  0.381707  0.441469\n",
            "1   2024      2  0.397333  0.386729\n",
            "2   2024      3  0.389140  0.366407\n",
            "3   2024      4  0.330000  0.328604\n",
            "4   2024      5  0.359009  0.353792\n",
            "5   2024      6  0.351531  0.366451\n",
            "6   2024      7  0.413469  0.316830\n",
            "7   2024      8  0.405556  0.341938\n",
            "8   2024      9  0.392857  0.360512\n",
            "9   2024     10  0.400000  0.361541\n",
            "10  2024     11  0.448936  0.326557\n",
            "11  2024     12  0.423333  0.355697\n",
            "\n",
            "Errores sobre 2024:\n",
            "MAE: 0.0446\n",
            "RMSE: 0.0577\n"
          ]
        }
      ]
    }
  ]
}